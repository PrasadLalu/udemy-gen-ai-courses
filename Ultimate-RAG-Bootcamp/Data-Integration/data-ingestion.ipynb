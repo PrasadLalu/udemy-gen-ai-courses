{
 "cells": [
  {
   "cell_type": "markdown",
   "id": "85dd4544",
   "metadata": {},
   "source": [
    "## Data Ingestion"
   ]
  },
  {
   "cell_type": "markdown",
   "id": "dfe4940a",
   "metadata": {},
   "source": [
    "#### Understanding Document Structure in Langchain"
   ]
  },
  {
   "cell_type": "code",
   "execution_count": 2,
   "id": "3e235499",
   "metadata": {},
   "outputs": [],
   "source": [
    "from langchain_core.documents import Document"
   ]
  },
  {
   "cell_type": "code",
   "execution_count": 5,
   "id": "3a42a967",
   "metadata": {},
   "outputs": [
    {
     "name": "stdout",
     "output_type": "stream",
     "text": [
      "****Document Structure****\n",
      "Content:  This is the main text content that will be embedded and searched.\n",
      "Metadata:  {'author': 'Lalu Mahato', 'source': 'example.txt', 'page': 1, 'created_at': '2025-09-25'}\n",
      "\n",
      "📝 Metadata is crucial for:\n",
      "- Filtering search results\n",
      "- Tracking document sources\n",
      "- Providing context in responses\n",
      "- Debugging and auditing\n"
     ]
    }
   ],
   "source": [
    "# Create a single document\n",
    "doc = Document(\n",
    "    page_content = \"This is the main text content that will be embedded and searched.\",\n",
    "    metadata = {\n",
    "        \"author\": \"Lalu Mahato\",\n",
    "        \"source\": \"example.txt\",\n",
    "        \"page\": 1,\n",
    "        \"created_at\": \"2025-09-25\",\n",
    "    }\n",
    ")\n",
    "\n",
    "print(\"****Document Structure****\")\n",
    "print(\"Content: \", doc.page_content)\n",
    "print(\"Metadata: \", doc.metadata)\n",
    "\n",
    "# Why metadata matters\n",
    "print(\"\\n📝 Metadata is crucial for:\")\n",
    "print(\"- Filtering search results\")\n",
    "print(\"- Tracking document sources\")\n",
    "print(\"- Providing context in responses\")\n",
    "print(\"- Debugging and auditing\")"
   ]
  },
  {
   "cell_type": "markdown",
   "id": "8d9c61ea",
   "metadata": {},
   "source": [
    "#### Text File"
   ]
  },
  {
   "cell_type": "code",
   "execution_count": 9,
   "id": "60fc2c0f",
   "metadata": {},
   "outputs": [],
   "source": [
    "# Create a text file\n",
    "import os\n",
    "\n",
    "os.makedirs(\"data/text_files\", exist_ok=True)\n",
    "sample_text = {\n",
    "    \"data/text_files/python_intro.txt\": \"\"\"Python Programming Introduction:\n",
    "    Python is a high-level, interpreted programming language known for its simplicity and readability.\n",
    "    Created by Guido van Rossum and first released in 1991, Python has become one of the most popular\n",
    "    programming languages in the world.\n",
    "\n",
    "    Key Features:\n",
    "    - Easy to learn and use\n",
    "    - Extensive standard library\n",
    "    - Cross-platform compatibility\n",
    "    - Strong community support\n",
    "\n",
    "    Python is widely used in web development, data science, artificial intelligence, and automation.\n",
    "    \"\"\",\n",
    "            \n",
    "    \"data/text_files/machine_learning.txt\": \"\"\"Machine Learning Basics:\n",
    "    Machine learning is a subset of artificial intelligence that enables systems to learn and improve\n",
    "    from experience without being explicitly programmed. It focuses on developing computer programs\n",
    "    that can access data and use it to learn for themselves.\n",
    "\n",
    "    Types of Machine Learning:\n",
    "    1. Supervised Learning: Learning with labeled data\n",
    "    2. Unsupervised Learning: Finding patterns in unlabeled data\n",
    "    3. Reinforcement Learning: Learning through rewards and penalties\n",
    "\n",
    "    Applications include image recognition, speech processing, and recommendation systems\n",
    "    \"\"\"\n",
    "}\n",
    "\n",
    "for filepath, content in sample_text.items():\n",
    "    with open(filepath, \"w\", encoding=\"utf-8\") as f:\n",
    "        f.write(content)\n"
   ]
  },
  {
   "cell_type": "markdown",
   "id": "d90f2bf1",
   "metadata": {},
   "source": [
    "##### 1. Read/Load a single file"
   ]
  },
  {
   "cell_type": "code",
   "execution_count": null,
   "id": "f2672f55",
   "metadata": {},
   "outputs": [
    {
     "name": "stdout",
     "output_type": "stream",
     "text": [
      "<class 'list'>\n",
      "[Document(metadata={'source': 'data/text_files/python_intro.txt'}, page_content='Python Programming Introduction:\\n    Python is a high-level, interpreted programming language known for its simplicity and readability.\\n    Created by Guido van Rossum and first released in 1991, Python has become one of the most popular\\n    programming languages in the world.\\n\\n    Key Features:\\n    - Easy to learn and use\\n    - Extensive standard library\\n    - Cross-platform compatibility\\n    - Strong community support\\n\\n    Python is widely used in web development, data science, artificial intelligence, and automation.\\n    ')]\n"
     ]
    }
   ],
   "source": [
    "from langchain_community.document_loaders import TextLoader\n",
    "\n",
    "loader = TextLoader(\"data/text_files/python_intro.txt\", encoding=\"utf-8\")\n",
    "documents = loader.load()\n",
    "print(type(documents))\n",
    "print(documents)"
   ]
  },
  {
   "cell_type": "code",
   "execution_count": 14,
   "id": "56a79040",
   "metadata": {},
   "outputs": [
    {
     "name": "stdout",
     "output_type": "stream",
     "text": [
      "📄 Loaded 1 documents\n",
      "Content Preview: Python Programming Introduction:\n",
      "    Python is a high-level, interpreted programming language known ...\n",
      "Metadata: {'source': 'data/text_files/python_intro.txt'}\n"
     ]
    }
   ],
   "source": [
    "print(f\"📄 Loaded {len(documents)} documents\")\n",
    "print(f\"Content Preview: {documents[0].page_content[:100]}...\")\n",
    "print(f\"Metadata: {documents[0].metadata}\")"
   ]
  },
  {
   "cell_type": "markdown",
   "id": "2311cf72",
   "metadata": {},
   "source": [
    "##### 2. Load multiple files"
   ]
  },
  {
   "cell_type": "code",
   "execution_count": 18,
   "id": "6520681a",
   "metadata": {},
   "outputs": [
    {
     "name": "stderr",
     "output_type": "stream",
     "text": [
      "100%|██████████| 2/2 [00:00<00:00, 666.82it/s]"
     ]
    },
    {
     "name": "stdout",
     "output_type": "stream",
     "text": [
      "📁 Loaded 2 documents\n",
      "\n",
      "Document 1:\n",
      "Source: data\\text_files\\machine_learning.txt\n",
      "Length: 605 characters\n",
      "\n",
      "Document 2:\n",
      "Source: data\\text_files\\python_intro.txt\n",
      "Length: 530 characters\n",
      "\n",
      "📊 DirectoryLoader Characteristics:\n",
      "✅ Advantages:\n",
      "  - Loads multiple files at once\n",
      "  - Supports glob patterns\n",
      "  - Progress tracking\n",
      "  - Recursive directory scanning\n",
      "\n",
      "❌ Disadvantages:\n",
      "  - All files must be same type\n",
      "  - Limited error handling per file\n",
      "  - Can be memory intensive for large directories\n"
     ]
    },
    {
     "name": "stderr",
     "output_type": "stream",
     "text": [
      "\n"
     ]
    }
   ],
   "source": [
    "from langchain_community.document_loaders import DirectoryLoader\n",
    "\n",
    "dir_loader = DirectoryLoader(\n",
    "    \"data/text_files\",\n",
    "    glob=\"**/*.txt\", # match .txt file\n",
    "    loader_cls=TextLoader,\n",
    "    loader_kwargs={\"encoding\": \"utf-8\"},\n",
    "    show_progress=True\n",
    ")\n",
    "\n",
    "documents = dir_loader.load()\n",
    "\n",
    "print(f\"📁 Loaded {len(documents)} documents\")\n",
    "for i, doc in enumerate(documents):\n",
    "    print(f\"\\nDocument {i+1}:\")\n",
    "    print(f\"Source: {doc.metadata['source']}\")\n",
    "    print(f\"Length: {len(doc.page_content)} characters\")\n",
    "    \n",
    "# 📊 Analysis\n",
    "print(\"\\n📊 DirectoryLoader Characteristics:\")\n",
    "print(\"✅ Advantages:\")\n",
    "print(\"  - Loads multiple files at once\")\n",
    "print(\"  - Supports glob patterns\")\n",
    "print(\"  - Progress tracking\")\n",
    "print(\"  - Recursive directory scanning\")\n",
    "\n",
    "print(\"\\n❌ Disadvantages:\")\n",
    "print(\"  - All files must be same type\")\n",
    "print(\"  - Limited error handling per file\")\n",
    "print(\"  - Can be memory intensive for large directories\")"
   ]
  },
  {
   "cell_type": "markdown",
   "id": "68df8ba5",
   "metadata": {},
   "source": [
    "### Text Splitting Strategies"
   ]
  },
  {
   "cell_type": "markdown",
   "id": "617bf990",
   "metadata": {},
   "source": [
    "#### 1.  CHARACTER TEXT SPLITTER"
   ]
  },
  {
   "cell_type": "code",
   "execution_count": 34,
   "id": "71bb2b52",
   "metadata": {},
   "outputs": [
    {
     "name": "stdout",
     "output_type": "stream",
     "text": [
      "Total Chunks: 4\n",
      "Machine Learning Basics:\n",
      "    Machine learning is a subset of artificial intelligence that enables systems to learn and improve \n",
      " ----------------------------------------------------------------------------------------------------\n",
      "from experience without being explicitly programmed. It focuses on developing computer programs\n",
      "    that can access data and use it to learn for themselves.\n",
      "    Types of Machine Learning: \n",
      " ----------------------------------------------------------------------------------------------------\n",
      "1. Supervised Learning: Learning with labeled data\n",
      "    2. Unsupervised Learning: Finding patterns in unlabeled data\n",
      "    3. Reinforcement Learning: Learning through rewards and penalties \n",
      " ----------------------------------------------------------------------------------------------------\n",
      "Applications include image recognition, speech processing, and recommendation systems \n",
      " ----------------------------------------------------------------------------------------------------\n"
     ]
    }
   ],
   "source": [
    "from langchain_text_splitters import CharacterTextSplitter\n",
    "\n",
    "splitter = CharacterTextSplitter(\n",
    "    separator=\"\\n\",\n",
    "    chunk_size=200,\n",
    "    chunk_overlap=20,\n",
    "    length_function=len\n",
    ")\n",
    "\n",
    "chunks = splitter.split_text(documents[0].page_content)\n",
    "print(f\"Total Chunks: {len(chunks)}\")\n",
    "print(chunks[0], \"\\n\", \"--\"*50)\n",
    "print(chunks[1], \"\\n\", \"--\"*50)\n",
    "print(chunks[2], \"\\n\", \"--\"*50)\n",
    "print(chunks[3], \"\\n\", \"--\"*50)"
   ]
  },
  {
   "cell_type": "code",
   "execution_count": 36,
   "id": "59999933",
   "metadata": {},
   "outputs": [
    {
     "name": "stdout",
     "output_type": "stream",
     "text": [
      "4\n",
      "Machine Learning Basics:\n",
      " Machine learning is a subset of artificial intelligence that enables systems to learn and improve\n",
      " from experience without being explicitly programmed. It focuses on \n",
      " ----------------------------------------------------------------------------------------------------\n",
      "It focuses on developing computer programs\n",
      " that can access data and use it to learn for themselves.\n",
      "\n",
      " Types of Machine Learning:\n",
      " 1. Supervised Learning: Learning with labeled data\n",
      " 2. Unsupervised \n",
      " ----------------------------------------------------------------------------------------------------\n",
      "2. Unsupervised Learning: Finding patterns in unlabeled data\n",
      " 3. Reinforcement Learning: Learning through rewards and penalties\n",
      "\n",
      " Applications include image recognition, speech processing, and \n",
      " ----------------------------------------------------------------------------------------------------\n",
      "processing, and recommendation systems \n",
      " ----------------------------------------------------------------------------------------------------\n"
     ]
    }
   ],
   "source": [
    "splitter = CharacterTextSplitter(\n",
    "    separator=\" \",\n",
    "    chunk_size=200,\n",
    "    chunk_overlap=20,\n",
    "    length_function=len\n",
    ")\n",
    "\n",
    "chunks = splitter.split_text(documents[0].page_content)\n",
    "print(len(chunks))\n",
    "print(chunks[0], \"\\n\", \"--\"*50)\n",
    "print(chunks[1], \"\\n\", \"--\"*50)\n",
    "print(chunks[2], \"\\n\", \"--\"*50)\n",
    "print(chunks[3], \"\\n\", \"--\"*50)"
   ]
  },
  {
   "cell_type": "markdown",
   "id": "156228ad",
   "metadata": {},
   "source": [
    "#### 2.  RECURSIVE CHARACTER TEXT SPLITTER"
   ]
  },
  {
   "cell_type": "code",
   "execution_count": 39,
   "id": "a42aa279",
   "metadata": {},
   "outputs": [
    {
     "name": "stdout",
     "output_type": "stream",
     "text": [
      "4\n",
      "Machine Learning Basics:\n",
      "    Machine learning is a subset of artificial intelligence that enables systems to learn and improve\n",
      "    from experience without being explicitly programmed. It focuses on \n",
      " ----------------------------------------------------------------------------------------------------\n",
      "It focuses on developing computer programs\n",
      "    that can access data and use it to learn for themselves.\n",
      "\n",
      "    Types of Machine Learning:\n",
      "    1. Supervised Learning: Learning with labeled data\n",
      "    2. \n",
      " ----------------------------------------------------------------------------------------------------\n",
      "labeled data\n",
      "    2. Unsupervised Learning: Finding patterns in unlabeled data\n",
      "    3. Reinforcement Learning: Learning through rewards and penalties\n",
      "\n",
      "    Applications include image recognition, speech \n",
      " ----------------------------------------------------------------------------------------------------\n",
      "recognition, speech processing, and recommendation systems \n",
      " ----------------------------------------------------------------------------------------------------\n"
     ]
    }
   ],
   "source": [
    "from langchain_text_splitters import RecursiveCharacterTextSplitter\n",
    "\n",
    "rec_splitter = RecursiveCharacterTextSplitter(\n",
    "    separators=\" \",\n",
    "    chunk_size=200,\n",
    "    chunk_overlap=20,\n",
    "    length_function=len\n",
    ")\n",
    "\n",
    "chunks = rec_splitter.split_text(documents[0].page_content)\n",
    "print(len(chunks))\n",
    "print(chunks[0], \"\\n\", \"--\"*50)\n",
    "print(chunks[1], \"\\n\", \"--\"*50)\n",
    "print(chunks[2], \"\\n\", \"--\"*50)\n",
    "print(chunks[3], \"\\n\", \"--\"*50)"
   ]
  },
  {
   "cell_type": "code",
   "execution_count": 41,
   "id": "b63ac12c",
   "metadata": {},
   "outputs": [
    {
     "name": "stdout",
     "output_type": "stream",
     "text": [
      "4\n",
      "Machine Learning Basics:\n",
      "    Machine learning is a subset of artificial intelligence that enables systems to learn and improve \n",
      " ----------------------------------------------------------------------------------------------------\n",
      "from experience without being explicitly programmed. It focuses on developing computer programs\n",
      "    that can access data and use it to learn for themselves.\n",
      "\n",
      "    Types of Machine Learning: \n",
      " ----------------------------------------------------------------------------------------------------\n",
      "1. Supervised Learning: Learning with labeled data\n",
      "    2. Unsupervised Learning: Finding patterns in unlabeled data\n",
      "    3. Reinforcement Learning: Learning through rewards and penalties \n",
      " ----------------------------------------------------------------------------------------------------\n",
      "Applications include image recognition, speech processing, and recommendation systems \n",
      " ----------------------------------------------------------------------------------------------------\n"
     ]
    }
   ],
   "source": [
    "from langchain_text_splitters import RecursiveCharacterTextSplitter\n",
    "\n",
    "rec_splitter = RecursiveCharacterTextSplitter(\n",
    "    separators=[\"\\n\", \"\"],\n",
    "    chunk_size=200,\n",
    "    chunk_overlap=20,\n",
    "    length_function=len\n",
    ")\n",
    "\n",
    "chunks = rec_splitter.split_text(documents[0].page_content)\n",
    "print(len(chunks))\n",
    "print(chunks[0], \"\\n\", \"--\"*50)\n",
    "print(chunks[1], \"\\n\", \"--\"*50)\n",
    "print(chunks[2], \"\\n\", \"--\"*50)\n",
    "print(chunks[3], \"\\n\", \"--\"*50)"
   ]
  },
  {
   "cell_type": "markdown",
   "id": "55001e20",
   "metadata": {},
   "source": [
    "#### 3. TOKEN TEXT SPLITTER"
   ]
  },
  {
   "cell_type": "code",
   "execution_count": 42,
   "id": "29a3e869",
   "metadata": {},
   "outputs": [
    {
     "name": "stdout",
     "output_type": "stream",
     "text": [
      "Created 4 chunks\n",
      "First chunk: Machine Learning Basics:\n",
      "    Machine learning is a subset of artificial intelligence that enables sy...\n"
     ]
    }
   ],
   "source": [
    "from langchain_text_splitters import TokenTextSplitter\n",
    "\n",
    "token_splitter = TokenTextSplitter(\n",
    "    chunk_size=50,\n",
    "    chunk_overlap=10\n",
    ")\n",
    "\n",
    "token_chunks = token_splitter.split_text(documents[0].page_content)\n",
    "print(f\"Created {len(token_chunks)} chunks\")\n",
    "print(f\"First chunk: {token_chunks[0][:100]}...\")"
   ]
  },
  {
   "cell_type": "code",
   "execution_count": 43,
   "id": "f09c133d",
   "metadata": {},
   "outputs": [
    {
     "data": {
      "text/plain": [
       "['Machine Learning Basics:\\n    Machine learning is a subset of artificial intelligence that enables systems to learn and improve\\n    from experience without being explicitly programmed. It focuses on developing computer programs\\n    that can access data and use',\n",
       " '\\n    that can access data and use it to learn for themselves.\\n\\n    Types of Machine Learning:\\n    1. Supervised Learning: Learning with labeled data\\n    2. Unsupervised Learning:',\n",
       " '    2. Unsupervised Learning: Finding patterns in unlabeled data\\n    3. Reinforcement Learning: Learning through rewards and penalties\\n\\n    Applications include image recognition, speech processing, and recommendation systems\\n  ',\n",
       " ', speech processing, and recommendation systems\\n    ']"
      ]
     },
     "execution_count": 43,
     "metadata": {},
     "output_type": "execute_result"
    }
   ],
   "source": [
    "token_chunks"
   ]
  },
  {
   "cell_type": "code",
   "execution_count": null,
   "id": "f994b0ad",
   "metadata": {},
   "outputs": [],
   "source": []
  }
 ],
 "metadata": {
  "kernelspec": {
   "display_name": ".venv (3.10.18)",
   "language": "python",
   "name": "python3"
  },
  "language_info": {
   "codemirror_mode": {
    "name": "ipython",
    "version": 3
   },
   "file_extension": ".py",
   "mimetype": "text/x-python",
   "name": "python",
   "nbconvert_exporter": "python",
   "pygments_lexer": "ipython3",
   "version": "3.10.18"
  }
 },
 "nbformat": 4,
 "nbformat_minor": 5
}
